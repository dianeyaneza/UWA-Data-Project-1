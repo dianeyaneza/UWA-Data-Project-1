{
 "cells": [
  {
   "cell_type": "code",
   "execution_count": 1,
   "metadata": {},
   "outputs": [],
   "source": [
    "# dependencies\n",
    "import pandas as pd\n",
    "import numpy as np"
   ]
  },
  {
   "cell_type": "code",
   "execution_count": 2,
   "metadata": {},
   "outputs": [
    {
     "output_type": "execute_result",
     "data": {
      "text/plain": [
       "    Month     Scheduled Operator Country to/from Passengers In Freight In  \\\n",
       "0  Jan-09  Aerolineas Argentinas       Argentina         3,021        4.3   \n",
       "1  Jan-09  Aerolineas Argentinas     New Zealand           627       76.3   \n",
       "2  Jan-09          Air Caledonie   New Caledonia         6,658        4.9   \n",
       "3  Jan-09             Air Canada          Canada         7,489      174.8   \n",
       "4  Jan-09              Air China           China        12,458      201.3   \n",
       "\n",
       "  Mail In Passengers Out Freight Out Mail Out  Year  \\\n",
       "0     0.6          1,959         8.3      0.0  2009   \n",
       "1     0.0          1,821        68.5      0.0  2009   \n",
       "2     0.6          5,365        68.6      1.3  2009   \n",
       "3     0.0          6,424       105.2      0.0  2009   \n",
       "4    18.6         11,163       142.4      2.9  2009   \n",
       "\n",
       "   << This year is based on the month selected in cell H2 in sheet \"Totals\" - it is only a calendar year if the month in sheet \"Totals\" is set to December  \\\n",
       "0                                                NaN                                                                                                         \n",
       "1                                                NaN                                                                                                         \n",
       "2                                                NaN                                                                                                         \n",
       "3                                                NaN                                                                                                         \n",
       "4                                                NaN                                                                                                         \n",
       "\n",
       "   Unnamed: 11  \n",
       "0          NaN  \n",
       "1          NaN  \n",
       "2          NaN  \n",
       "3          NaN  \n",
       "4          NaN  "
      ],
      "text/html": "<div>\n<style scoped>\n    .dataframe tbody tr th:only-of-type {\n        vertical-align: middle;\n    }\n\n    .dataframe tbody tr th {\n        vertical-align: top;\n    }\n\n    .dataframe thead th {\n        text-align: right;\n    }\n</style>\n<table border=\"1\" class=\"dataframe\">\n  <thead>\n    <tr style=\"text-align: right;\">\n      <th></th>\n      <th>Month</th>\n      <th>Scheduled Operator</th>\n      <th>Country to/from</th>\n      <th>Passengers In</th>\n      <th>Freight In</th>\n      <th>Mail In</th>\n      <th>Passengers Out</th>\n      <th>Freight Out</th>\n      <th>Mail Out</th>\n      <th>Year</th>\n      <th>&lt;&lt; This year is based on the month selected in cell H2 in sheet \"Totals\" - it is only a calendar year if the month in sheet \"Totals\" is set to December</th>\n      <th>Unnamed: 11</th>\n    </tr>\n  </thead>\n  <tbody>\n    <tr>\n      <th>0</th>\n      <td>Jan-09</td>\n      <td>Aerolineas Argentinas</td>\n      <td>Argentina</td>\n      <td>3,021</td>\n      <td>4.3</td>\n      <td>0.6</td>\n      <td>1,959</td>\n      <td>8.3</td>\n      <td>0.0</td>\n      <td>2009</td>\n      <td>NaN</td>\n      <td>NaN</td>\n    </tr>\n    <tr>\n      <th>1</th>\n      <td>Jan-09</td>\n      <td>Aerolineas Argentinas</td>\n      <td>New Zealand</td>\n      <td>627</td>\n      <td>76.3</td>\n      <td>0.0</td>\n      <td>1,821</td>\n      <td>68.5</td>\n      <td>0.0</td>\n      <td>2009</td>\n      <td>NaN</td>\n      <td>NaN</td>\n    </tr>\n    <tr>\n      <th>2</th>\n      <td>Jan-09</td>\n      <td>Air Caledonie</td>\n      <td>New Caledonia</td>\n      <td>6,658</td>\n      <td>4.9</td>\n      <td>0.6</td>\n      <td>5,365</td>\n      <td>68.6</td>\n      <td>1.3</td>\n      <td>2009</td>\n      <td>NaN</td>\n      <td>NaN</td>\n    </tr>\n    <tr>\n      <th>3</th>\n      <td>Jan-09</td>\n      <td>Air Canada</td>\n      <td>Canada</td>\n      <td>7,489</td>\n      <td>174.8</td>\n      <td>0.0</td>\n      <td>6,424</td>\n      <td>105.2</td>\n      <td>0.0</td>\n      <td>2009</td>\n      <td>NaN</td>\n      <td>NaN</td>\n    </tr>\n    <tr>\n      <th>4</th>\n      <td>Jan-09</td>\n      <td>Air China</td>\n      <td>China</td>\n      <td>12,458</td>\n      <td>201.3</td>\n      <td>18.6</td>\n      <td>11,163</td>\n      <td>142.4</td>\n      <td>2.9</td>\n      <td>2009</td>\n      <td>NaN</td>\n      <td>NaN</td>\n    </tr>\n  </tbody>\n</table>\n</div>"
     },
     "metadata": {},
     "execution_count": 2
    }
   ],
   "source": [
    "# relevant page from original data file was saved as a csv file\n",
    "# import file\n",
    "file = \"../resources/international_airline_activity_table1_2009tocurrent_1120.csv\"\n",
    "\n",
    "# Read the file results\n",
    "file_df = pd.read_csv(file)\n",
    "\n",
    "file_df.head()"
   ]
  },
  {
   "cell_type": "code",
   "execution_count": 3,
   "metadata": {},
   "outputs": [
    {
     "output_type": "execute_result",
     "data": {
      "text/plain": [
       "        Month Country to/from Passengers In Freight In Mail In Passengers Out  \\\n",
       "0      Jan-09       Argentina         3,021        4.3     0.6          1,959   \n",
       "1      Jan-09     New Zealand           627       76.3     0.0          1,821   \n",
       "2      Jan-09   New Caledonia         6,658        4.9     0.6          5,365   \n",
       "3      Jan-09          Canada         7,489      174.8     0.0          6,424   \n",
       "4      Jan-09           China        12,458      201.3    18.6         11,163   \n",
       "...       ...             ...           ...        ...     ...            ...   \n",
       "15052  Nov-20           Korea            ..         ..      ..             ..   \n",
       "15053  Nov-20       Singapore            ..         ..      ..             ..   \n",
       "15054  Nov-20             USA            ..    1,484.4     0.0             ..   \n",
       "15055  Nov-20         Vietnam           248      437.1     0.0            691   \n",
       "15056  Nov-20           China           272      144.1     6.6          2,450   \n",
       "\n",
       "      Freight Out Mail Out  Year  \n",
       "0             8.3      0.0  2009  \n",
       "1            68.5      0.0  2009  \n",
       "2            68.6      1.3  2009  \n",
       "3           105.2      0.0  2009  \n",
       "4           142.4      2.9  2009  \n",
       "...           ...      ...   ...  \n",
       "15052       254.8      0.0  2020  \n",
       "15053        28.9      0.0  2020  \n",
       "15054          ..       ..  2020  \n",
       "15055       534.2      8.8  2020  \n",
       "15056       118.2      0.0  2020  \n",
       "\n",
       "[15057 rows x 9 columns]"
      ],
      "text/html": "<div>\n<style scoped>\n    .dataframe tbody tr th:only-of-type {\n        vertical-align: middle;\n    }\n\n    .dataframe tbody tr th {\n        vertical-align: top;\n    }\n\n    .dataframe thead th {\n        text-align: right;\n    }\n</style>\n<table border=\"1\" class=\"dataframe\">\n  <thead>\n    <tr style=\"text-align: right;\">\n      <th></th>\n      <th>Month</th>\n      <th>Country to/from</th>\n      <th>Passengers In</th>\n      <th>Freight In</th>\n      <th>Mail In</th>\n      <th>Passengers Out</th>\n      <th>Freight Out</th>\n      <th>Mail Out</th>\n      <th>Year</th>\n    </tr>\n  </thead>\n  <tbody>\n    <tr>\n      <th>0</th>\n      <td>Jan-09</td>\n      <td>Argentina</td>\n      <td>3,021</td>\n      <td>4.3</td>\n      <td>0.6</td>\n      <td>1,959</td>\n      <td>8.3</td>\n      <td>0.0</td>\n      <td>2009</td>\n    </tr>\n    <tr>\n      <th>1</th>\n      <td>Jan-09</td>\n      <td>New Zealand</td>\n      <td>627</td>\n      <td>76.3</td>\n      <td>0.0</td>\n      <td>1,821</td>\n      <td>68.5</td>\n      <td>0.0</td>\n      <td>2009</td>\n    </tr>\n    <tr>\n      <th>2</th>\n      <td>Jan-09</td>\n      <td>New Caledonia</td>\n      <td>6,658</td>\n      <td>4.9</td>\n      <td>0.6</td>\n      <td>5,365</td>\n      <td>68.6</td>\n      <td>1.3</td>\n      <td>2009</td>\n    </tr>\n    <tr>\n      <th>3</th>\n      <td>Jan-09</td>\n      <td>Canada</td>\n      <td>7,489</td>\n      <td>174.8</td>\n      <td>0.0</td>\n      <td>6,424</td>\n      <td>105.2</td>\n      <td>0.0</td>\n      <td>2009</td>\n    </tr>\n    <tr>\n      <th>4</th>\n      <td>Jan-09</td>\n      <td>China</td>\n      <td>12,458</td>\n      <td>201.3</td>\n      <td>18.6</td>\n      <td>11,163</td>\n      <td>142.4</td>\n      <td>2.9</td>\n      <td>2009</td>\n    </tr>\n    <tr>\n      <th>...</th>\n      <td>...</td>\n      <td>...</td>\n      <td>...</td>\n      <td>...</td>\n      <td>...</td>\n      <td>...</td>\n      <td>...</td>\n      <td>...</td>\n      <td>...</td>\n    </tr>\n    <tr>\n      <th>15052</th>\n      <td>Nov-20</td>\n      <td>Korea</td>\n      <td>..</td>\n      <td>..</td>\n      <td>..</td>\n      <td>..</td>\n      <td>254.8</td>\n      <td>0.0</td>\n      <td>2020</td>\n    </tr>\n    <tr>\n      <th>15053</th>\n      <td>Nov-20</td>\n      <td>Singapore</td>\n      <td>..</td>\n      <td>..</td>\n      <td>..</td>\n      <td>..</td>\n      <td>28.9</td>\n      <td>0.0</td>\n      <td>2020</td>\n    </tr>\n    <tr>\n      <th>15054</th>\n      <td>Nov-20</td>\n      <td>USA</td>\n      <td>..</td>\n      <td>1,484.4</td>\n      <td>0.0</td>\n      <td>..</td>\n      <td>..</td>\n      <td>..</td>\n      <td>2020</td>\n    </tr>\n    <tr>\n      <th>15055</th>\n      <td>Nov-20</td>\n      <td>Vietnam</td>\n      <td>248</td>\n      <td>437.1</td>\n      <td>0.0</td>\n      <td>691</td>\n      <td>534.2</td>\n      <td>8.8</td>\n      <td>2020</td>\n    </tr>\n    <tr>\n      <th>15056</th>\n      <td>Nov-20</td>\n      <td>China</td>\n      <td>272</td>\n      <td>144.1</td>\n      <td>6.6</td>\n      <td>2,450</td>\n      <td>118.2</td>\n      <td>0.0</td>\n      <td>2020</td>\n    </tr>\n  </tbody>\n</table>\n<p>15057 rows × 9 columns</p>\n</div>"
     },
     "metadata": {},
     "execution_count": 3
    }
   ],
   "source": [
    "# get columns that we will need for analysis\n",
    "file2_df = file_df.loc[:, [\"Month\", \"Country to/from\", \"Passengers In\", \"Freight In\", \"Mail In\", \"Passengers Out\", \"Freight Out\", \"Mail Out\", \"Year\" ]]\n",
    "file2_df"
   ]
  },
  {
   "cell_type": "code",
   "execution_count": 4,
   "metadata": {},
   "outputs": [
    {
     "output_type": "execute_result",
     "data": {
      "text/plain": [
       "        Month Country to/from Passengers In Freight In Mail In Passengers Out  \\\n",
       "0      Jan009       Argentina         3,021        4.3     0.6          1,959   \n",
       "1      Jan009     New Zealand           627       76.3     0.0          1,821   \n",
       "2      Jan009   New Caledonia         6,658        4.9     0.6          5,365   \n",
       "3      Jan009          Canada         7,489      174.8     0.0          6,424   \n",
       "4      Jan009           China        12,458      201.3    18.6         11,163   \n",
       "...       ...             ...           ...        ...     ...            ...   \n",
       "15052  Nov020           Korea            ..         ..      ..             ..   \n",
       "15053  Nov020       Singapore            ..         ..      ..             ..   \n",
       "15054  Nov020             USA            ..    1,484.4     0.0             ..   \n",
       "15055  Nov020         Vietnam           248      437.1     0.0            691   \n",
       "15056  Nov020           China           272      144.1     6.6          2,450   \n",
       "\n",
       "      Freight Out Mail Out  Year  \n",
       "0             8.3      0.0  2009  \n",
       "1            68.5      0.0  2009  \n",
       "2            68.6      1.3  2009  \n",
       "3           105.2      0.0  2009  \n",
       "4           142.4      2.9  2009  \n",
       "...           ...      ...   ...  \n",
       "15052       254.8      0.0  2020  \n",
       "15053        28.9      0.0  2020  \n",
       "15054          ..       ..  2020  \n",
       "15055       534.2      8.8  2020  \n",
       "15056       118.2      0.0  2020  \n",
       "\n",
       "[15057 rows x 9 columns]"
      ],
      "text/html": "<div>\n<style scoped>\n    .dataframe tbody tr th:only-of-type {\n        vertical-align: middle;\n    }\n\n    .dataframe tbody tr th {\n        vertical-align: top;\n    }\n\n    .dataframe thead th {\n        text-align: right;\n    }\n</style>\n<table border=\"1\" class=\"dataframe\">\n  <thead>\n    <tr style=\"text-align: right;\">\n      <th></th>\n      <th>Month</th>\n      <th>Country to/from</th>\n      <th>Passengers In</th>\n      <th>Freight In</th>\n      <th>Mail In</th>\n      <th>Passengers Out</th>\n      <th>Freight Out</th>\n      <th>Mail Out</th>\n      <th>Year</th>\n    </tr>\n  </thead>\n  <tbody>\n    <tr>\n      <th>0</th>\n      <td>Jan009</td>\n      <td>Argentina</td>\n      <td>3,021</td>\n      <td>4.3</td>\n      <td>0.6</td>\n      <td>1,959</td>\n      <td>8.3</td>\n      <td>0.0</td>\n      <td>2009</td>\n    </tr>\n    <tr>\n      <th>1</th>\n      <td>Jan009</td>\n      <td>New Zealand</td>\n      <td>627</td>\n      <td>76.3</td>\n      <td>0.0</td>\n      <td>1,821</td>\n      <td>68.5</td>\n      <td>0.0</td>\n      <td>2009</td>\n    </tr>\n    <tr>\n      <th>2</th>\n      <td>Jan009</td>\n      <td>New Caledonia</td>\n      <td>6,658</td>\n      <td>4.9</td>\n      <td>0.6</td>\n      <td>5,365</td>\n      <td>68.6</td>\n      <td>1.3</td>\n      <td>2009</td>\n    </tr>\n    <tr>\n      <th>3</th>\n      <td>Jan009</td>\n      <td>Canada</td>\n      <td>7,489</td>\n      <td>174.8</td>\n      <td>0.0</td>\n      <td>6,424</td>\n      <td>105.2</td>\n      <td>0.0</td>\n      <td>2009</td>\n    </tr>\n    <tr>\n      <th>4</th>\n      <td>Jan009</td>\n      <td>China</td>\n      <td>12,458</td>\n      <td>201.3</td>\n      <td>18.6</td>\n      <td>11,163</td>\n      <td>142.4</td>\n      <td>2.9</td>\n      <td>2009</td>\n    </tr>\n    <tr>\n      <th>...</th>\n      <td>...</td>\n      <td>...</td>\n      <td>...</td>\n      <td>...</td>\n      <td>...</td>\n      <td>...</td>\n      <td>...</td>\n      <td>...</td>\n      <td>...</td>\n    </tr>\n    <tr>\n      <th>15052</th>\n      <td>Nov020</td>\n      <td>Korea</td>\n      <td>..</td>\n      <td>..</td>\n      <td>..</td>\n      <td>..</td>\n      <td>254.8</td>\n      <td>0.0</td>\n      <td>2020</td>\n    </tr>\n    <tr>\n      <th>15053</th>\n      <td>Nov020</td>\n      <td>Singapore</td>\n      <td>..</td>\n      <td>..</td>\n      <td>..</td>\n      <td>..</td>\n      <td>28.9</td>\n      <td>0.0</td>\n      <td>2020</td>\n    </tr>\n    <tr>\n      <th>15054</th>\n      <td>Nov020</td>\n      <td>USA</td>\n      <td>..</td>\n      <td>1,484.4</td>\n      <td>0.0</td>\n      <td>..</td>\n      <td>..</td>\n      <td>..</td>\n      <td>2020</td>\n    </tr>\n    <tr>\n      <th>15055</th>\n      <td>Nov020</td>\n      <td>Vietnam</td>\n      <td>248</td>\n      <td>437.1</td>\n      <td>0.0</td>\n      <td>691</td>\n      <td>534.2</td>\n      <td>8.8</td>\n      <td>2020</td>\n    </tr>\n    <tr>\n      <th>15056</th>\n      <td>Nov020</td>\n      <td>China</td>\n      <td>272</td>\n      <td>144.1</td>\n      <td>6.6</td>\n      <td>2,450</td>\n      <td>118.2</td>\n      <td>0.0</td>\n      <td>2020</td>\n    </tr>\n  </tbody>\n</table>\n<p>15057 rows × 9 columns</p>\n</div>"
     },
     "metadata": {},
     "execution_count": 4
    }
   ],
   "source": [
    "# replace symbols with 0 as per original data notes\n",
    "file2_df = file2_df.replace('-','0', regex=True)\n",
    "file2_df"
   ]
  },
  {
   "cell_type": "code",
   "execution_count": 6,
   "metadata": {},
   "outputs": [],
   "source": [
    "# save as csv file\n",
    "file2_df.to_csv('cleansheet1.csv', index=False)"
   ]
  },
  {
   "cell_type": "code",
   "execution_count": null,
   "metadata": {},
   "outputs": [],
   "source": []
  },
  {
   "cell_type": "code",
   "execution_count": null,
   "metadata": {},
   "outputs": [],
   "source": []
  },
  {
   "cell_type": "code",
   "execution_count": null,
   "metadata": {},
   "outputs": [],
   "source": []
  },
  {
   "cell_type": "code",
   "execution_count": null,
   "metadata": {},
   "outputs": [],
   "source": []
  }
 ],
 "metadata": {
  "kernelspec": {
   "display_name": "Python 3",
   "language": "python",
   "name": "python3"
  },
  "language_info": {
   "codemirror_mode": {
    "name": "ipython",
    "version": 3
   },
   "file_extension": ".py",
   "mimetype": "text/x-python",
   "name": "python",
   "nbconvert_exporter": "python",
   "pygments_lexer": "ipython3",
   "version": "3.8.5-final"
  }
 },
 "nbformat": 4,
 "nbformat_minor": 4
}