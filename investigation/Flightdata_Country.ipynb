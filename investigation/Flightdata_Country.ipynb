{
 "cells": [
  {
   "cell_type": "code",
   "execution_count": 118,
   "metadata": {},
   "outputs": [],
   "source": [
    "# Dependencies and Setup\n",
    "import matplotlib.pyplot as plt\n",
    "import pandas as pd\n",
    "import scipy.stats as st\n",
    "import numpy as np\n",
    "import seaborn as sns"
   ]
  },
  {
   "cell_type": "code",
   "execution_count": 119,
   "metadata": {},
   "outputs": [],
   "source": [
    "# Study data files\n",
    "file_path = \"cleansheet1.csv\"\n",
    "\n",
    "# Read the data \n",
    "flightdata = pd.read_csv(file_path)\n",
    "#flightdata.head()"
   ]
  },
  {
   "cell_type": "code",
   "execution_count": 120,
   "metadata": {},
   "outputs": [
    {
     "data": {
      "text/html": [
       "<div>\n",
       "<style scoped>\n",
       "    .dataframe tbody tr th:only-of-type {\n",
       "        vertical-align: middle;\n",
       "    }\n",
       "\n",
       "    .dataframe tbody tr th {\n",
       "        vertical-align: top;\n",
       "    }\n",
       "\n",
       "    .dataframe thead th {\n",
       "        text-align: right;\n",
       "    }\n",
       "</style>\n",
       "<table border=\"1\" class=\"dataframe\">\n",
       "  <thead>\n",
       "    <tr style=\"text-align: right;\">\n",
       "      <th></th>\n",
       "      <th>Month</th>\n",
       "      <th>Country to/from</th>\n",
       "      <th>Year</th>\n",
       "    </tr>\n",
       "  </thead>\n",
       "  <tbody>\n",
       "    <tr>\n",
       "      <th>0</th>\n",
       "      <td>Jan009</td>\n",
       "      <td>Argentina</td>\n",
       "      <td>2009</td>\n",
       "    </tr>\n",
       "    <tr>\n",
       "      <th>1</th>\n",
       "      <td>Jan009</td>\n",
       "      <td>New Zealand</td>\n",
       "      <td>2009</td>\n",
       "    </tr>\n",
       "    <tr>\n",
       "      <th>2</th>\n",
       "      <td>Jan009</td>\n",
       "      <td>New Caledonia</td>\n",
       "      <td>2009</td>\n",
       "    </tr>\n",
       "    <tr>\n",
       "      <th>3</th>\n",
       "      <td>Jan009</td>\n",
       "      <td>Canada</td>\n",
       "      <td>2009</td>\n",
       "    </tr>\n",
       "    <tr>\n",
       "      <th>4</th>\n",
       "      <td>Jan009</td>\n",
       "      <td>China</td>\n",
       "      <td>2009</td>\n",
       "    </tr>\n",
       "  </tbody>\n",
       "</table>\n",
       "</div>"
      ],
      "text/plain": [
       "    Month Country to/from  Year\n",
       "0  Jan009       Argentina  2009\n",
       "1  Jan009     New Zealand  2009\n",
       "2  Jan009   New Caledonia  2009\n",
       "3  Jan009          Canada  2009\n",
       "4  Jan009           China  2009"
      ]
     },
     "execution_count": 120,
     "metadata": {},
     "output_type": "execute_result"
    }
   ],
   "source": [
    "# country related info \n",
    "flight_cntry = flightdata[[\"Month\", \"Country to/from\" , \"Year\"]]\n",
    "flight_cntry.head()"
   ]
  },
  {
   "cell_type": "code",
   "execution_count": 122,
   "metadata": {},
   "outputs": [
    {
     "data": {
      "text/plain": [
       "New Zealand             1398\n",
       "Singapore               1363\n",
       "USA                     1298\n",
       "China                   1286\n",
       "Indonesia                866\n",
       "Thailand                 708\n",
       "Papua New Guinea         578\n",
       "Japan                    573\n",
       "Hong Kong (SAR)          551\n",
       "Solomon Islands          454\n",
       "Malaysia                 450\n",
       "Fiji                     429\n",
       "United Arab Emirates     421\n",
       "Korea                    419\n",
       "Philippines              393\n",
       "Taiwan                   377\n",
       "UK                       339\n",
       "Vanuatu                  328\n",
       "South Africa             283\n",
       "New Caledonia            278\n",
       "Vietnam                  258\n",
       "Chile                    239\n",
       "Western Samoa            165\n",
       "Canada                   161\n",
       "Nauru                    160\n",
       "Brunei                   143\n",
       "Mauritius                138\n",
       "Qatar                    137\n",
       "Tonga                    135\n",
       "India                    128\n",
       "Cook Islands             115\n",
       "Argentina                105\n",
       "Guam                      90\n",
       "Germany                   55\n",
       "Macau                     48\n",
       "Reunion                   41\n",
       "Sri Lanka                 38\n",
       "France                    37\n",
       "Luxembourg                20\n",
       "Kiribati                  16\n",
       "Kazakhstan                13\n",
       "Tahiti                     7\n",
       "Turkey                     3\n",
       "Brazil                     3\n",
       "Laos                       2\n",
       "Cambodia                   2\n",
       "Bahrain                    2\n",
       "Peru                       1\n",
       "Netherlands                1\n",
       "Uruguay                    1\n",
       "Nigeria                    1\n",
       "Name: Country to/from, dtype: int64"
      ]
     },
     "execution_count": 122,
     "metadata": {},
     "output_type": "execute_result"
    }
   ],
   "source": [
    "# Counts flight operation with respect to country\n",
    "cntrycount = flightdata[\"Country to/from\"].value_counts()\n",
    "cntrycount"
   ]
  },
  {
   "cell_type": "code",
   "execution_count": 123,
   "metadata": {},
   "outputs": [
    {
     "data": {
      "text/plain": [
       "2018    1352\n",
       "2019    1343\n",
       "2011    1333\n",
       "2017    1306\n",
       "2010    1292\n",
       "2012    1288\n",
       "2016    1279\n",
       "2013    1272\n",
       "2014    1229\n",
       "2015    1228\n",
       "2009    1092\n",
       "2020    1043\n",
       "Name: Year, dtype: int64"
      ]
     },
     "execution_count": 123,
     "metadata": {},
     "output_type": "execute_result"
    }
   ],
   "source": [
    "# Counts flight operation in year \n",
    "yearcount = flightdata[\"Year\"].value_counts()\n",
    "yearcount"
   ]
  },
  {
   "cell_type": "code",
   "execution_count": 124,
   "metadata": {},
   "outputs": [
    {
     "data": {
      "image/png": "[encoded data removed]",
      "text/plain": [
       "<Figure size 432x288 with 1 Axes>"
      ]
     },
     "metadata": {
      "needs_background": "light"
     },
     "output_type": "display_data"
    }
   ],
   "source": [
    "#Flight Operation from year 2009 to 2020\"\n",
    "plt.xticks(rotation='vertical')\n",
    "plt.bar(yearcount.index, yearcount, color='b', alpha=0.5, align=\"center\")\n",
    "plt.title(\"Flight Operations from year 2009 to 2020\")\n",
    "plt.ylabel(\"Flight Operation\")\n",
    "plt.savefig('Country_Flight_Operation_2009_2020')"
   ]
  },
  {
   "cell_type": "code",
   "execution_count": 125,
   "metadata": {},
   "outputs": [
    {
     "data": {
      "image/png": "[encoded data removed]",
      "text/plain": [
       "<Figure size 1080x576 with 1 Axes>"
      ]
     },
     "metadata": {
      "needs_background": "light"
     },
     "output_type": "display_data"
    }
   ],
   "source": [
    "# Plot the Air traffic overview countrywise during year 2009 to 2020\n",
    "\n",
    "# Country lables on X axis\n",
    "country_labels =  cntrycount.index\n",
    "\n",
    "# the label locations\n",
    "x = np.arange(len(country_labels))\n",
    "width = 0.2  \n",
    "\n",
    "# Plot graph\n",
    "fig, ax = plt.subplots(figsize=(15,8))\n",
    "\n",
    "yearcntbar = ax.bar(x, cntrycount, width, label='Air Traffic Volume', color = \"red\")\n",
    "\n",
    "ax.set_ylabel('Air Traffic Volume')\n",
    "ax.set_title('Air traffic overview countrywise during year 2009 to 2020')\n",
    "ax.set_xticks(x)\n",
    "plt.xticks(rotation='vertical')\n",
    "ax.set_xticklabels(country_labels)\n",
    "ax.legend()\n",
    "plt.savefig('Countrywise_Air_Traffic_2009_2020')"
   ]
  },
  {
   "cell_type": "code",
   "execution_count": 126,
   "metadata": {},
   "outputs": [
    {
     "data": {
      "text/plain": [
       "New Zealand             1398\n",
       "Singapore               1363\n",
       "USA                     1298\n",
       "China                   1286\n",
       "Indonesia                866\n",
       "Thailand                 708\n",
       "Papua New Guinea         578\n",
       "Japan                    573\n",
       "Hong Kong (SAR)          551\n",
       "Solomon Islands          454\n",
       "Malaysia                 450\n",
       "Fiji                     429\n",
       "United Arab Emirates     421\n",
       "Korea                    419\n",
       "Philippines              393\n",
       "Name: Country to/from, dtype: int64"
      ]
     },
     "execution_count": 126,
     "metadata": {},
     "output_type": "execute_result"
    }
   ],
   "source": [
    "# Top 15 countries during during year 2009 to 2020\n",
    "topcntry = cntrycount.nlargest(15, 'all')\n",
    "topcntry"
   ]
  },
  {
   "cell_type": "code",
   "execution_count": 127,
   "metadata": {},
   "outputs": [
    {
     "data": {
      "image/png": "[encoded data removed]",
      "text/plain": [
       "<Figure size 432x288 with 1 Axes>"
      ]
     },
     "metadata": {
      "needs_background": "light"
     },
     "output_type": "display_data"
    }
   ],
   "source": [
    "# Plot top 15 countries during during year 2009 to 2020\n",
    "fig = plt.figure()\n",
    "ax = fig.add_axes([0,0,1,1])\n",
    "xaxis = topcntry.index\n",
    "yaxis = topcntry\n",
    "ax.bar(xaxis,yaxis)\n",
    "plt.title(\"Top 15 Countries Air Traffic during year 2009 to 2020\")\n",
    "plt.xticks(rotation='vertical')\n",
    "plt.savefig('Country_Top15_AirTraffic_2009_2020')\n",
    "plt.show()"
   ]
  },
  {
   "cell_type": "code",
   "execution_count": 128,
   "metadata": {},
   "outputs": [
    {
     "data": {
      "text/plain": [
       "Peru            1\n",
       "Netherlands     1\n",
       "Uruguay         1\n",
       "Nigeria         1\n",
       "Laos            2\n",
       "Cambodia        2\n",
       "Bahrain         2\n",
       "Turkey          3\n",
       "Brazil          3\n",
       "Tahiti          7\n",
       "Kazakhstan     13\n",
       "Kiribati       16\n",
       "Luxembourg     20\n",
       "France         37\n",
       "Sri Lanka      38\n",
       "Name: Country to/from, dtype: int64"
      ]
     },
     "execution_count": 128,
     "metadata": {},
     "output_type": "execute_result"
    }
   ],
   "source": [
    "# Plot bottom 15 countries during during year 2009 to 2020\n",
    "bottomcntry = cntrycount.nsmallest(15, 'all')\n",
    "bottomcntry"
   ]
  },
  {
   "cell_type": "code",
   "execution_count": 129,
   "metadata": {
    "scrolled": true
   },
   "outputs": [
    {
     "data": {
      "image/png": "[encoded data removed]",
      "text/plain": [
       "<Figure size 432x288 with 1 Axes>"
      ]
     },
     "metadata": {
      "needs_background": "light"
     },
     "output_type": "display_data"
    }
   ],
   "source": [
    "# Plot bottom 15 countries during during year 2009 to 2020\n",
    "plt.xticks(rotation='vertical')\n",
    "plt.bar(bottomcntry.index, bottomcntry, color='r', alpha=0.5, align=\"center\")\n",
    "plt.title(\"Bottom 15 Countries Air Traffic during year 2009 to 2020\")\n",
    "plt.savefig('Country_Bottom15_AirTraffic_2009_2020')"
   ]
  },
  {
   "cell_type": "code",
   "execution_count": 130,
   "metadata": {},
   "outputs": [],
   "source": [
    "#Plot the change in air traffic countrywise between year 2019 and 2020\n",
    "Y19 = flightdata.loc[flightdata['Year'] == 2019]\n",
    "Y20 = flightdata.loc[flightdata['Year'] == 2020]\n",
    "CC19 = Y19[\"Country to/from\"].value_counts()\n",
    "CC20 = Y20[\"Country to/from\"].value_counts()\n",
    "Y2Y = pd.DataFrame({'Y19': CC19,'Y20': CC20})\n",
    "Y2Y = Y2Y.replace(np.nan, 0)\n",
    "YYY = Y2Y.sort_values(by=['Y20'], ascending=False)"
   ]
  },
  {
   "cell_type": "code",
   "execution_count": 131,
   "metadata": {},
   "outputs": [
    {
     "data": {
      "image/png": "[encoded data removed]",
      "text/plain": [
       "<Figure size 432x288 with 1 Axes>"
      ]
     },
     "metadata": {
      "needs_background": "light"
     },
     "output_type": "display_data"
    }
   ],
   "source": [
    "YYbar = YYY.nlargest(15, 'Y20')\n",
    "YYbar.plot.bar()\n",
    "plt.title(\"Air traffic countrywise during year 2019 and 2020\")\n",
    "plt.savefig('Country_AirTraffic_Change_btw_2019_2020')"
   ]
  },
  {
   "cell_type": "code",
   "execution_count": 132,
   "metadata": {},
   "outputs": [
    {
     "data": {
      "text/plain": [
       "35"
      ]
     },
     "execution_count": 132,
     "metadata": {},
     "output_type": "execute_result"
    }
   ],
   "source": [
    "# Number of countries of flight operation during year 2019\n",
    "flight_cntry19 = Y19[\"Country to/from\"]\n",
    "cntry_list19 = flight_cntry19.unique()\n",
    "len(cntry_list19)"
   ]
  },
  {
   "cell_type": "code",
   "execution_count": 133,
   "metadata": {},
   "outputs": [
    {
     "data": {
      "text/plain": [
       "37"
      ]
     },
     "execution_count": 133,
     "metadata": {},
     "output_type": "execute_result"
    }
   ],
   "source": [
    "# Number of countries of flight operation during year 2020\n",
    "flight_cntry20 = Y20[\"Country to/from\"]\n",
    "cntry_list20 = flight_cntry20.unique()\n",
    "len(cntry_list20)"
   ]
  },
  {
   "cell_type": "code",
   "execution_count": 134,
   "metadata": {},
   "outputs": [
    {
     "data": {
      "text/plain": [
       "51"
      ]
     },
     "execution_count": 134,
     "metadata": {},
     "output_type": "execute_result"
    }
   ],
   "source": [
    "# Number of countries of flight operation from 2009 to 2020\n",
    "flight_cntry = flightdata[\"Country to/from\"]\n",
    "cntry_list = flight_cntry.unique()\n",
    "len(cntry_list)"
   ]
  },
  {
   "cell_type": "code",
   "execution_count": 135,
   "metadata": {},
   "outputs": [
    {
     "data": {
      "text/plain": [
       "array(['New Caledonia', 'Canada', 'China', 'India', 'Mauritius',\n",
       "       'Cook Islands', 'New Zealand', 'Papua New Guinea', 'Vanuatu',\n",
       "       'Malaysia', 'Japan', 'USA', 'Korea', 'Indonesia', 'Singapore',\n",
       "       'UK', 'Hong Kong (SAR)', 'Philippines', 'Taiwan', 'Thailand',\n",
       "       'United Arab Emirates', 'Fiji', 'Vietnam', 'Chile', 'Nauru',\n",
       "       'Solomon Islands', 'South Africa', 'Qatar', 'Brunei',\n",
       "       'Western Samoa', 'Sri Lanka', 'Tonga', 'Bahrain', 'Macau',\n",
       "       'Kazakhstan'], dtype=object)"
      ]
     },
     "execution_count": 135,
     "metadata": {},
     "output_type": "execute_result"
    }
   ],
   "source": [
    "#list of countries doing flight operation in year 2019\n",
    "cntry_list19"
   ]
  },
  {
   "cell_type": "code",
   "execution_count": 136,
   "metadata": {},
   "outputs": [
    {
     "data": {
      "text/plain": [
       "array(['New Caledonia', 'Canada', 'New Zealand', 'China', 'India',\n",
       "       'Mauritius', 'Cook Islands', 'Papua New Guinea', 'Vanuatu',\n",
       "       'Malaysia', 'Japan', 'USA', 'Korea', 'Indonesia', 'Singapore',\n",
       "       'UK', 'Hong Kong (SAR)', 'Philippines', 'Taiwan',\n",
       "       'United Arab Emirates', 'Fiji', 'Thailand', 'Vietnam', 'Chile',\n",
       "       'Nauru', 'Solomon Islands', 'Macau', 'South Africa', 'Qatar',\n",
       "       'Brunei', 'Western Samoa', 'Sri Lanka', 'Tonga', 'Argentina',\n",
       "       'Peru', 'Guam', 'Cambodia'], dtype=object)"
      ]
     },
     "execution_count": 136,
     "metadata": {},
     "output_type": "execute_result"
    }
   ],
   "source": [
    "#list of countries doing flight operation in year 2020\n",
    "cntry_list20"
   ]
  },
  {
   "cell_type": "code",
   "execution_count": 137,
   "metadata": {},
   "outputs": [
    {
     "data": {
      "text/html": [
       "<div>\n",
       "<style scoped>\n",
       "    .dataframe tbody tr th:only-of-type {\n",
       "        vertical-align: middle;\n",
       "    }\n",
       "\n",
       "    .dataframe tbody tr th {\n",
       "        vertical-align: top;\n",
       "    }\n",
       "\n",
       "    .dataframe thead th {\n",
       "        text-align: right;\n",
       "    }\n",
       "</style>\n",
       "<table border=\"1\" class=\"dataframe\">\n",
       "  <thead>\n",
       "    <tr style=\"text-align: right;\">\n",
       "      <th></th>\n",
       "      <th>Y19</th>\n",
       "      <th>Y20</th>\n",
       "    </tr>\n",
       "  </thead>\n",
       "  <tbody>\n",
       "    <tr>\n",
       "      <th>Argentina</th>\n",
       "      <td>0.0</td>\n",
       "      <td>2.0</td>\n",
       "    </tr>\n",
       "    <tr>\n",
       "      <th>Bahrain</th>\n",
       "      <td>1.0</td>\n",
       "      <td>0.0</td>\n",
       "    </tr>\n",
       "    <tr>\n",
       "      <th>Brunei</th>\n",
       "      <td>12.0</td>\n",
       "      <td>12.0</td>\n",
       "    </tr>\n",
       "    <tr>\n",
       "      <th>Cambodia</th>\n",
       "      <td>0.0</td>\n",
       "      <td>2.0</td>\n",
       "    </tr>\n",
       "    <tr>\n",
       "      <th>Canada</th>\n",
       "      <td>14.0</td>\n",
       "      <td>11.0</td>\n",
       "    </tr>\n",
       "    <tr>\n",
       "      <th>Chile</th>\n",
       "      <td>24.0</td>\n",
       "      <td>15.0</td>\n",
       "    </tr>\n",
       "    <tr>\n",
       "      <th>China</th>\n",
       "      <td>156.0</td>\n",
       "      <td>111.0</td>\n",
       "    </tr>\n",
       "    <tr>\n",
       "      <th>Cook Islands</th>\n",
       "      <td>12.0</td>\n",
       "      <td>4.0</td>\n",
       "    </tr>\n",
       "    <tr>\n",
       "      <th>Fiji</th>\n",
       "      <td>45.0</td>\n",
       "      <td>24.0</td>\n",
       "    </tr>\n",
       "    <tr>\n",
       "      <th>Guam</th>\n",
       "      <td>0.0</td>\n",
       "      <td>5.0</td>\n",
       "    </tr>\n",
       "    <tr>\n",
       "      <th>Hong Kong (SAR)</th>\n",
       "      <td>48.0</td>\n",
       "      <td>58.0</td>\n",
       "    </tr>\n",
       "    <tr>\n",
       "      <th>India</th>\n",
       "      <td>12.0</td>\n",
       "      <td>11.0</td>\n",
       "    </tr>\n",
       "    <tr>\n",
       "      <th>Indonesia</th>\n",
       "      <td>85.0</td>\n",
       "      <td>47.0</td>\n",
       "    </tr>\n",
       "    <tr>\n",
       "      <th>Japan</th>\n",
       "      <td>60.0</td>\n",
       "      <td>51.0</td>\n",
       "    </tr>\n",
       "    <tr>\n",
       "      <th>Kazakhstan</th>\n",
       "      <td>2.0</td>\n",
       "      <td>0.0</td>\n",
       "    </tr>\n",
       "    <tr>\n",
       "      <th>Korea</th>\n",
       "      <td>38.0</td>\n",
       "      <td>57.0</td>\n",
       "    </tr>\n",
       "    <tr>\n",
       "      <th>Macau</th>\n",
       "      <td>3.0</td>\n",
       "      <td>2.0</td>\n",
       "    </tr>\n",
       "    <tr>\n",
       "      <th>Malaysia</th>\n",
       "      <td>37.0</td>\n",
       "      <td>31.0</td>\n",
       "    </tr>\n",
       "    <tr>\n",
       "      <th>Mauritius</th>\n",
       "      <td>12.0</td>\n",
       "      <td>6.0</td>\n",
       "    </tr>\n",
       "    <tr>\n",
       "      <th>Nauru</th>\n",
       "      <td>12.0</td>\n",
       "      <td>12.0</td>\n",
       "    </tr>\n",
       "    <tr>\n",
       "      <th>New Caledonia</th>\n",
       "      <td>24.0</td>\n",
       "      <td>16.0</td>\n",
       "    </tr>\n",
       "    <tr>\n",
       "      <th>New Zealand</th>\n",
       "      <td>117.0</td>\n",
       "      <td>102.0</td>\n",
       "    </tr>\n",
       "    <tr>\n",
       "      <th>Papua New Guinea</th>\n",
       "      <td>44.0</td>\n",
       "      <td>30.0</td>\n",
       "    </tr>\n",
       "    <tr>\n",
       "      <th>Peru</th>\n",
       "      <td>0.0</td>\n",
       "      <td>1.0</td>\n",
       "    </tr>\n",
       "    <tr>\n",
       "      <th>Philippines</th>\n",
       "      <td>36.0</td>\n",
       "      <td>28.0</td>\n",
       "    </tr>\n",
       "    <tr>\n",
       "      <th>Qatar</th>\n",
       "      <td>12.0</td>\n",
       "      <td>12.0</td>\n",
       "    </tr>\n",
       "    <tr>\n",
       "      <th>Singapore</th>\n",
       "      <td>120.0</td>\n",
       "      <td>99.0</td>\n",
       "    </tr>\n",
       "    <tr>\n",
       "      <th>Solomon Islands</th>\n",
       "      <td>37.0</td>\n",
       "      <td>22.0</td>\n",
       "    </tr>\n",
       "    <tr>\n",
       "      <th>South Africa</th>\n",
       "      <td>24.0</td>\n",
       "      <td>9.0</td>\n",
       "    </tr>\n",
       "    <tr>\n",
       "      <th>Sri Lanka</th>\n",
       "      <td>12.0</td>\n",
       "      <td>12.0</td>\n",
       "    </tr>\n",
       "    <tr>\n",
       "      <th>Taiwan</th>\n",
       "      <td>34.0</td>\n",
       "      <td>30.0</td>\n",
       "    </tr>\n",
       "    <tr>\n",
       "      <th>Thailand</th>\n",
       "      <td>49.0</td>\n",
       "      <td>39.0</td>\n",
       "    </tr>\n",
       "    <tr>\n",
       "      <th>Tonga</th>\n",
       "      <td>12.0</td>\n",
       "      <td>4.0</td>\n",
       "    </tr>\n",
       "    <tr>\n",
       "      <th>UK</th>\n",
       "      <td>24.0</td>\n",
       "      <td>12.0</td>\n",
       "    </tr>\n",
       "    <tr>\n",
       "      <th>USA</th>\n",
       "      <td>129.0</td>\n",
       "      <td>103.0</td>\n",
       "    </tr>\n",
       "    <tr>\n",
       "      <th>United Arab Emirates</th>\n",
       "      <td>24.0</td>\n",
       "      <td>24.0</td>\n",
       "    </tr>\n",
       "    <tr>\n",
       "      <th>Vanuatu</th>\n",
       "      <td>24.0</td>\n",
       "      <td>12.0</td>\n",
       "    </tr>\n",
       "    <tr>\n",
       "      <th>Vietnam</th>\n",
       "      <td>24.0</td>\n",
       "      <td>18.0</td>\n",
       "    </tr>\n",
       "    <tr>\n",
       "      <th>Western Samoa</th>\n",
       "      <td>24.0</td>\n",
       "      <td>9.0</td>\n",
       "    </tr>\n",
       "  </tbody>\n",
       "</table>\n",
       "</div>"
      ],
      "text/plain": [
       "                        Y19    Y20\n",
       "Argentina               0.0    2.0\n",
       "Bahrain                 1.0    0.0\n",
       "Brunei                 12.0   12.0\n",
       "Cambodia                0.0    2.0\n",
       "Canada                 14.0   11.0\n",
       "Chile                  24.0   15.0\n",
       "China                 156.0  111.0\n",
       "Cook Islands           12.0    4.0\n",
       "Fiji                   45.0   24.0\n",
       "Guam                    0.0    5.0\n",
       "Hong Kong (SAR)        48.0   58.0\n",
       "India                  12.0   11.0\n",
       "Indonesia              85.0   47.0\n",
       "Japan                  60.0   51.0\n",
       "Kazakhstan              2.0    0.0\n",
       "Korea                  38.0   57.0\n",
       "Macau                   3.0    2.0\n",
       "Malaysia               37.0   31.0\n",
       "Mauritius              12.0    6.0\n",
       "Nauru                  12.0   12.0\n",
       "New Caledonia          24.0   16.0\n",
       "New Zealand           117.0  102.0\n",
       "Papua New Guinea       44.0   30.0\n",
       "Peru                    0.0    1.0\n",
       "Philippines            36.0   28.0\n",
       "Qatar                  12.0   12.0\n",
       "Singapore             120.0   99.0\n",
       "Solomon Islands        37.0   22.0\n",
       "South Africa           24.0    9.0\n",
       "Sri Lanka              12.0   12.0\n",
       "Taiwan                 34.0   30.0\n",
       "Thailand               49.0   39.0\n",
       "Tonga                  12.0    4.0\n",
       "UK                     24.0   12.0\n",
       "USA                   129.0  103.0\n",
       "United Arab Emirates   24.0   24.0\n",
       "Vanuatu                24.0   12.0\n",
       "Vietnam                24.0   18.0\n",
       "Western Samoa          24.0    9.0"
      ]
     },
     "execution_count": 137,
     "metadata": {},
     "output_type": "execute_result"
    }
   ],
   "source": [
    "#Summary of flight operation of countries during year 2019 & 2020\n",
    "Y2Y"
   ]
  },
  {
   "cell_type": "code",
   "execution_count": 141,
   "metadata": {},
   "outputs": [
    {
     "data": {
      "text/html": [
       "<div>\n",
       "<style scoped>\n",
       "    .dataframe tbody tr th:only-of-type {\n",
       "        vertical-align: middle;\n",
       "    }\n",
       "\n",
       "    .dataframe tbody tr th {\n",
       "        vertical-align: top;\n",
       "    }\n",
       "\n",
       "    .dataframe thead th {\n",
       "        text-align: right;\n",
       "    }\n",
       "</style>\n",
       "<table border=\"1\" class=\"dataframe\">\n",
       "  <thead>\n",
       "    <tr style=\"text-align: right;\">\n",
       "      <th></th>\n",
       "      <th>Y19</th>\n",
       "      <th>Y20</th>\n",
       "    </tr>\n",
       "  </thead>\n",
       "  <tbody>\n",
       "    <tr>\n",
       "      <th>Argentina</th>\n",
       "      <td>0.0</td>\n",
       "      <td>2.0</td>\n",
       "    </tr>\n",
       "    <tr>\n",
       "      <th>Cambodia</th>\n",
       "      <td>0.0</td>\n",
       "      <td>2.0</td>\n",
       "    </tr>\n",
       "    <tr>\n",
       "      <th>Guam</th>\n",
       "      <td>0.0</td>\n",
       "      <td>5.0</td>\n",
       "    </tr>\n",
       "    <tr>\n",
       "      <th>Peru</th>\n",
       "      <td>0.0</td>\n",
       "      <td>1.0</td>\n",
       "    </tr>\n",
       "  </tbody>\n",
       "</table>\n",
       "</div>"
      ],
      "text/plain": [
       "           Y19  Y20\n",
       "Argentina  0.0  2.0\n",
       "Cambodia   0.0  2.0\n",
       "Guam       0.0  5.0\n",
       "Peru       0.0  1.0"
      ]
     },
     "execution_count": 141,
     "metadata": {},
     "output_type": "execute_result"
    }
   ],
   "source": [
    "#List of countries started operation to Australia in year 2020\n",
    "Cadd20 = Y2Y.loc[Y2Y['Y19'] == 0]\n",
    "Cadd20"
   ]
  },
  {
   "cell_type": "code",
   "execution_count": 142,
   "metadata": {},
   "outputs": [
    {
     "data": {
      "text/html": [
       "<div>\n",
       "<style scoped>\n",
       "    .dataframe tbody tr th:only-of-type {\n",
       "        vertical-align: middle;\n",
       "    }\n",
       "\n",
       "    .dataframe tbody tr th {\n",
       "        vertical-align: top;\n",
       "    }\n",
       "\n",
       "    .dataframe thead th {\n",
       "        text-align: right;\n",
       "    }\n",
       "</style>\n",
       "<table border=\"1\" class=\"dataframe\">\n",
       "  <thead>\n",
       "    <tr style=\"text-align: right;\">\n",
       "      <th></th>\n",
       "      <th>Y19</th>\n",
       "      <th>Y20</th>\n",
       "    </tr>\n",
       "  </thead>\n",
       "  <tbody>\n",
       "    <tr>\n",
       "      <th>Bahrain</th>\n",
       "      <td>1.0</td>\n",
       "      <td>0.0</td>\n",
       "    </tr>\n",
       "    <tr>\n",
       "      <th>Kazakhstan</th>\n",
       "      <td>2.0</td>\n",
       "      <td>0.0</td>\n",
       "    </tr>\n",
       "  </tbody>\n",
       "</table>\n",
       "</div>"
      ],
      "text/plain": [
       "            Y19  Y20\n",
       "Bahrain     1.0  0.0\n",
       "Kazakhstan  2.0  0.0"
      ]
     },
     "execution_count": 142,
     "metadata": {},
     "output_type": "execute_result"
    }
   ],
   "source": [
    "##List of countries who stopped operation to Australia in year 2020\n",
    "Cdrop20 = Y2Y.loc[Y2Y['Y20'] == 0]\n",
    "Cdrop20"
   ]
  },
  {
   "cell_type": "code",
   "execution_count": 117,
   "metadata": {},
   "outputs": [
    {
     "data": {
      "text/html": [
       "<div>\n",
       "<style scoped>\n",
       "    .dataframe tbody tr th:only-of-type {\n",
       "        vertical-align: middle;\n",
       "    }\n",
       "\n",
       "    .dataframe tbody tr th {\n",
       "        vertical-align: top;\n",
       "    }\n",
       "\n",
       "    .dataframe thead th {\n",
       "        text-align: right;\n",
       "    }\n",
       "</style>\n",
       "<table border=\"1\" class=\"dataframe\">\n",
       "  <thead>\n",
       "    <tr style=\"text-align: right;\">\n",
       "      <th></th>\n",
       "      <th>Y19</th>\n",
       "      <th>Y20</th>\n",
       "    </tr>\n",
       "  </thead>\n",
       "  <tbody>\n",
       "    <tr>\n",
       "      <th>Argentina</th>\n",
       "      <td>0.0</td>\n",
       "      <td>2.0</td>\n",
       "    </tr>\n",
       "    <tr>\n",
       "      <th>Cambodia</th>\n",
       "      <td>0.0</td>\n",
       "      <td>2.0</td>\n",
       "    </tr>\n",
       "    <tr>\n",
       "      <th>Guam</th>\n",
       "      <td>0.0</td>\n",
       "      <td>5.0</td>\n",
       "    </tr>\n",
       "    <tr>\n",
       "      <th>Hong Kong (SAR)</th>\n",
       "      <td>48.0</td>\n",
       "      <td>58.0</td>\n",
       "    </tr>\n",
       "    <tr>\n",
       "      <th>Korea</th>\n",
       "      <td>38.0</td>\n",
       "      <td>57.0</td>\n",
       "    </tr>\n",
       "    <tr>\n",
       "      <th>Peru</th>\n",
       "      <td>0.0</td>\n",
       "      <td>1.0</td>\n",
       "    </tr>\n",
       "  </tbody>\n",
       "</table>\n",
       "</div>"
      ],
      "text/plain": [
       "                  Y19   Y20\n",
       "Argentina         0.0   2.0\n",
       "Cambodia          0.0   2.0\n",
       "Guam              0.0   5.0\n",
       "Hong Kong (SAR)  48.0  58.0\n",
       "Korea            38.0  57.0\n",
       "Peru              0.0   1.0"
      ]
     },
     "execution_count": 117,
     "metadata": {},
     "output_type": "execute_result"
    }
   ],
   "source": [
    "#List of countries whose flight operation increased/started in year 2020 as compared to 2019\n",
    "CY1920 = Y2Y.loc[Y2Y['Y20'] > Y2Y['Y19']]\n",
    "CY1920"
   ]
  },
  {
   "cell_type": "code",
   "execution_count": null,
   "metadata": {},
   "outputs": [],
   "source": []
  }
 ],
 "metadata": {
  "kernelspec": {
   "display_name": "Python 3",
   "language": "python",
   "name": "python3"
  },
  "language_info": {
   "codemirror_mode": {
    "name": "ipython",
    "version": 3
   },
   "file_extension": ".py",
   "mimetype": "text/x-python",
   "name": "python",
   "nbconvert_exporter": "python",
   "pygments_lexer": "ipython3",
   "version": "3.8.3"
  }
 },
 "nbformat": 4,
 "nbformat_minor": 4
}
